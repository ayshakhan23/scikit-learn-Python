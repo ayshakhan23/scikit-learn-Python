{
 "cells": [
  {
   "cell_type": "code",
   "execution_count": 1,
   "id": "e3ff9cbe-1253-4b3f-9c60-9e4127ef86b3",
   "metadata": {},
   "outputs": [],
   "source": [
    "import pandas as pd"
   ]
  },
  {
   "cell_type": "code",
   "execution_count": 2,
   "id": "5c24e778-b1c8-4ad3-a9d5-189848b15843",
   "metadata": {},
   "outputs": [],
   "source": [
    "df=pd.read_csv(\"salesanalysis.csv\")"
   ]
  },
  {
   "cell_type": "code",
   "execution_count": 3,
   "id": "607876d7-8c1c-4631-b998-b5d57109276b",
   "metadata": {},
   "outputs": [
    {
     "data": {
      "text/html": [
       "<div>\n",
       "<style scoped>\n",
       "    .dataframe tbody tr th:only-of-type {\n",
       "        vertical-align: middle;\n",
       "    }\n",
       "\n",
       "    .dataframe tbody tr th {\n",
       "        vertical-align: top;\n",
       "    }\n",
       "\n",
       "    .dataframe thead th {\n",
       "        text-align: right;\n",
       "    }\n",
       "</style>\n",
       "<table border=\"1\" class=\"dataframe\">\n",
       "  <thead>\n",
       "    <tr style=\"text-align: right;\">\n",
       "      <th></th>\n",
       "      <th>Order ID</th>\n",
       "      <th>Date</th>\n",
       "      <th>Product</th>\n",
       "      <th>Price</th>\n",
       "      <th>Quantity</th>\n",
       "      <th>Purchase Type</th>\n",
       "      <th>Payment Method</th>\n",
       "      <th>Manager</th>\n",
       "      <th>City</th>\n",
       "    </tr>\n",
       "  </thead>\n",
       "  <tbody>\n",
       "    <tr>\n",
       "      <th>0</th>\n",
       "      <td>10452</td>\n",
       "      <td>7/11/2022</td>\n",
       "      <td>Fries</td>\n",
       "      <td>3.49</td>\n",
       "      <td>573.07</td>\n",
       "      <td>Online</td>\n",
       "      <td>Gift Card</td>\n",
       "      <td>Tom      Jackson</td>\n",
       "      <td>London</td>\n",
       "    </tr>\n",
       "    <tr>\n",
       "      <th>1</th>\n",
       "      <td>10453</td>\n",
       "      <td>7/11/2022</td>\n",
       "      <td>Beverages</td>\n",
       "      <td>2.95</td>\n",
       "      <td>745.76</td>\n",
       "      <td>Online</td>\n",
       "      <td>Gift Card</td>\n",
       "      <td>Pablo Perez</td>\n",
       "      <td>Madrid</td>\n",
       "    </tr>\n",
       "    <tr>\n",
       "      <th>2</th>\n",
       "      <td>10454</td>\n",
       "      <td>7/11/2022</td>\n",
       "      <td>Sides &amp; Other</td>\n",
       "      <td>4.99</td>\n",
       "      <td>200.40</td>\n",
       "      <td>In-store</td>\n",
       "      <td>Gift Card</td>\n",
       "      <td>Joao    Silva</td>\n",
       "      <td>Lisbon</td>\n",
       "    </tr>\n",
       "    <tr>\n",
       "      <th>3</th>\n",
       "      <td>10455</td>\n",
       "      <td>8/11/2022</td>\n",
       "      <td>Burgers</td>\n",
       "      <td>12.99</td>\n",
       "      <td>569.67</td>\n",
       "      <td>In-store</td>\n",
       "      <td>Credit Card</td>\n",
       "      <td>Walter Muller</td>\n",
       "      <td>Berlin</td>\n",
       "    </tr>\n",
       "    <tr>\n",
       "      <th>4</th>\n",
       "      <td>10456</td>\n",
       "      <td>8/11/2022</td>\n",
       "      <td>Chicken Sandwiches</td>\n",
       "      <td>9.95</td>\n",
       "      <td>201.01</td>\n",
       "      <td>In-store</td>\n",
       "      <td>Credit Card</td>\n",
       "      <td>Walter Muller</td>\n",
       "      <td>Berlin</td>\n",
       "    </tr>\n",
       "    <tr>\n",
       "      <th>...</th>\n",
       "      <td>...</td>\n",
       "      <td>...</td>\n",
       "      <td>...</td>\n",
       "      <td>...</td>\n",
       "      <td>...</td>\n",
       "      <td>...</td>\n",
       "      <td>...</td>\n",
       "      <td>...</td>\n",
       "      <td>...</td>\n",
       "    </tr>\n",
       "    <tr>\n",
       "      <th>249</th>\n",
       "      <td>10709</td>\n",
       "      <td>28-12-2022</td>\n",
       "      <td>Sides &amp; Other</td>\n",
       "      <td>4.99</td>\n",
       "      <td>200.40</td>\n",
       "      <td>Drive-thru</td>\n",
       "      <td>Gift Card</td>\n",
       "      <td>Walter Muller</td>\n",
       "      <td>Berlin</td>\n",
       "    </tr>\n",
       "    <tr>\n",
       "      <th>250</th>\n",
       "      <td>10710</td>\n",
       "      <td>29-12-2022</td>\n",
       "      <td>Burgers</td>\n",
       "      <td>12.99</td>\n",
       "      <td>754.43</td>\n",
       "      <td>Drive-thru</td>\n",
       "      <td>Gift Card</td>\n",
       "      <td>Walter Muller</td>\n",
       "      <td>Berlin</td>\n",
       "    </tr>\n",
       "    <tr>\n",
       "      <th>251</th>\n",
       "      <td>10711</td>\n",
       "      <td>29-12-2022</td>\n",
       "      <td>Chicken Sandwiches</td>\n",
       "      <td>9.95</td>\n",
       "      <td>281.41</td>\n",
       "      <td>Drive-thru</td>\n",
       "      <td>Gift Card</td>\n",
       "      <td>Walter Muller</td>\n",
       "      <td>Berlin</td>\n",
       "    </tr>\n",
       "    <tr>\n",
       "      <th>252</th>\n",
       "      <td>10712</td>\n",
       "      <td>29-12-2022</td>\n",
       "      <td>Fries</td>\n",
       "      <td>3.49</td>\n",
       "      <td>630.37</td>\n",
       "      <td>Drive-thru</td>\n",
       "      <td>Gift Card</td>\n",
       "      <td>Walter Muller</td>\n",
       "      <td>Berlin</td>\n",
       "    </tr>\n",
       "    <tr>\n",
       "      <th>253</th>\n",
       "      <td>10713</td>\n",
       "      <td>29-12-2022</td>\n",
       "      <td>Beverages</td>\n",
       "      <td>2.95</td>\n",
       "      <td>677.97</td>\n",
       "      <td>Drive-thru</td>\n",
       "      <td>Gift Card</td>\n",
       "      <td>Walter Muller</td>\n",
       "      <td>Berlin</td>\n",
       "    </tr>\n",
       "  </tbody>\n",
       "</table>\n",
       "<p>254 rows × 9 columns</p>\n",
       "</div>"
      ],
      "text/plain": [
       "     Order ID        Date             Product  Price  Quantity Purchase Type  \\\n",
       "0       10452   7/11/2022               Fries   3.49    573.07       Online    \n",
       "1       10453   7/11/2022           Beverages   2.95    745.76       Online    \n",
       "2       10454   7/11/2022       Sides & Other   4.99    200.40     In-store    \n",
       "3       10455   8/11/2022             Burgers  12.99    569.67     In-store    \n",
       "4       10456   8/11/2022  Chicken Sandwiches   9.95    201.01     In-store    \n",
       "..        ...         ...                 ...    ...       ...           ...   \n",
       "249     10709  28-12-2022       Sides & Other   4.99    200.40   Drive-thru    \n",
       "250     10710  29-12-2022             Burgers  12.99    754.43   Drive-thru    \n",
       "251     10711  29-12-2022  Chicken Sandwiches   9.95    281.41   Drive-thru    \n",
       "252     10712  29-12-2022               Fries   3.49    630.37   Drive-thru    \n",
       "253     10713  29-12-2022           Beverages   2.95    677.97   Drive-thru    \n",
       "\n",
       "    Payment Method             Manager    City  \n",
       "0        Gift Card    Tom      Jackson  London  \n",
       "1        Gift Card         Pablo Perez  Madrid  \n",
       "2        Gift Card       Joao    Silva  Lisbon  \n",
       "3      Credit Card       Walter Muller  Berlin  \n",
       "4      Credit Card       Walter Muller  Berlin  \n",
       "..             ...                 ...     ...  \n",
       "249      Gift Card       Walter Muller  Berlin  \n",
       "250      Gift Card       Walter Muller  Berlin  \n",
       "251      Gift Card       Walter Muller  Berlin  \n",
       "252      Gift Card       Walter Muller  Berlin  \n",
       "253      Gift Card       Walter Muller  Berlin  \n",
       "\n",
       "[254 rows x 9 columns]"
      ]
     },
     "execution_count": 3,
     "metadata": {},
     "output_type": "execute_result"
    }
   ],
   "source": [
    "df"
   ]
  },
  {
   "cell_type": "code",
   "execution_count": 4,
   "id": "2d9c29ee-ff8e-469d-9f24-01a4c4b90069",
   "metadata": {},
   "outputs": [
    {
     "data": {
      "text/html": [
       "<div>\n",
       "<style scoped>\n",
       "    .dataframe tbody tr th:only-of-type {\n",
       "        vertical-align: middle;\n",
       "    }\n",
       "\n",
       "    .dataframe tbody tr th {\n",
       "        vertical-align: top;\n",
       "    }\n",
       "\n",
       "    .dataframe thead th {\n",
       "        text-align: right;\n",
       "    }\n",
       "</style>\n",
       "<table border=\"1\" class=\"dataframe\">\n",
       "  <thead>\n",
       "    <tr style=\"text-align: right;\">\n",
       "      <th></th>\n",
       "      <th>Order ID</th>\n",
       "      <th>Date</th>\n",
       "      <th>Product</th>\n",
       "      <th>Price</th>\n",
       "      <th>Quantity</th>\n",
       "      <th>Purchase Type</th>\n",
       "      <th>Payment Method</th>\n",
       "      <th>Manager</th>\n",
       "      <th>City</th>\n",
       "    </tr>\n",
       "  </thead>\n",
       "  <tbody>\n",
       "    <tr>\n",
       "      <th>118</th>\n",
       "      <td>10578</td>\n",
       "      <td>2/12/2022</td>\n",
       "      <td>Beverages</td>\n",
       "      <td>2.95</td>\n",
       "      <td>677.97</td>\n",
       "      <td>Online</td>\n",
       "      <td>Credit Card</td>\n",
       "      <td>Remy Monet</td>\n",
       "      <td>Paris</td>\n",
       "    </tr>\n",
       "    <tr>\n",
       "      <th>90</th>\n",
       "      <td>10550</td>\n",
       "      <td>27-11-2022</td>\n",
       "      <td>Burgers</td>\n",
       "      <td>12.99</td>\n",
       "      <td>461.89</td>\n",
       "      <td>Drive-thru</td>\n",
       "      <td>Credit Card</td>\n",
       "      <td>Tom Jackson</td>\n",
       "      <td>London</td>\n",
       "    </tr>\n",
       "    <tr>\n",
       "      <th>100</th>\n",
       "      <td>10560</td>\n",
       "      <td>29-11-2022</td>\n",
       "      <td>Burgers</td>\n",
       "      <td>12.99</td>\n",
       "      <td>477.29</td>\n",
       "      <td>Online</td>\n",
       "      <td>Credit Card</td>\n",
       "      <td>Tom Jackson</td>\n",
       "      <td>London</td>\n",
       "    </tr>\n",
       "    <tr>\n",
       "      <th>122</th>\n",
       "      <td>10582</td>\n",
       "      <td>3/12/2022</td>\n",
       "      <td>Fries</td>\n",
       "      <td>3.49</td>\n",
       "      <td>630.37</td>\n",
       "      <td>Online</td>\n",
       "      <td>Credit Card</td>\n",
       "      <td>Tom Jackson</td>\n",
       "      <td>London</td>\n",
       "    </tr>\n",
       "    <tr>\n",
       "      <th>33</th>\n",
       "      <td>10490</td>\n",
       "      <td>15-11-2022</td>\n",
       "      <td>Burgers</td>\n",
       "      <td>12.99</td>\n",
       "      <td>508.08</td>\n",
       "      <td>In-store</td>\n",
       "      <td>Credit Card</td>\n",
       "      <td>Pablo Perez</td>\n",
       "      <td>Madrid</td>\n",
       "    </tr>\n",
       "  </tbody>\n",
       "</table>\n",
       "</div>"
      ],
      "text/plain": [
       "     Order ID        Date    Product  Price  Quantity Purchase Type  \\\n",
       "118     10578   2/12/2022  Beverages   2.95    677.97       Online    \n",
       "90      10550  27-11-2022    Burgers  12.99    461.89   Drive-thru    \n",
       "100     10560  29-11-2022    Burgers  12.99    477.29       Online    \n",
       "122     10582   3/12/2022      Fries   3.49    630.37       Online    \n",
       "33      10490  15-11-2022    Burgers  12.99    508.08     In-store    \n",
       "\n",
       "    Payment Method      Manager    City  \n",
       "118    Credit Card   Remy Monet   Paris  \n",
       "90     Credit Card  Tom Jackson  London  \n",
       "100    Credit Card  Tom Jackson  London  \n",
       "122    Credit Card  Tom Jackson  London  \n",
       "33     Credit Card  Pablo Perez  Madrid  "
      ]
     },
     "execution_count": 4,
     "metadata": {},
     "output_type": "execute_result"
    }
   ],
   "source": [
    "df.sample(5)"
   ]
  },
  {
   "cell_type": "code",
   "execution_count": 5,
   "id": "63cd6afc-cad5-4e1b-b3fb-0e0b2f81607a",
   "metadata": {},
   "outputs": [
    {
     "data": {
      "text/plain": [
       "0          Online \n",
       "1          Online \n",
       "2        In-store \n",
       "3        In-store \n",
       "4        In-store \n",
       "          ...     \n",
       "249    Drive-thru \n",
       "250    Drive-thru \n",
       "251    Drive-thru \n",
       "252    Drive-thru \n",
       "253    Drive-thru \n",
       "Name: Purchase Type, Length: 254, dtype: object"
      ]
     },
     "execution_count": 5,
     "metadata": {},
     "output_type": "execute_result"
    }
   ],
   "source": [
    "df[\"Purchase Type\"]"
   ]
  },
  {
   "cell_type": "code",
   "execution_count": 6,
   "id": "1a15307f-f435-4457-8396-ab44309063f2",
   "metadata": {},
   "outputs": [
    {
     "data": {
      "text/html": [
       "<div>\n",
       "<style scoped>\n",
       "    .dataframe tbody tr th:only-of-type {\n",
       "        vertical-align: middle;\n",
       "    }\n",
       "\n",
       "    .dataframe tbody tr th {\n",
       "        vertical-align: top;\n",
       "    }\n",
       "\n",
       "    .dataframe thead th {\n",
       "        text-align: right;\n",
       "    }\n",
       "</style>\n",
       "<table border=\"1\" class=\"dataframe\">\n",
       "  <thead>\n",
       "    <tr style=\"text-align: right;\">\n",
       "      <th></th>\n",
       "      <th>Order ID</th>\n",
       "      <th>Date</th>\n",
       "      <th>Product</th>\n",
       "      <th>Price</th>\n",
       "      <th>Quantity</th>\n",
       "      <th>Purchase Type</th>\n",
       "      <th>Payment Method</th>\n",
       "      <th>Manager</th>\n",
       "      <th>City</th>\n",
       "    </tr>\n",
       "  </thead>\n",
       "  <tbody>\n",
       "    <tr>\n",
       "      <th>0</th>\n",
       "      <td>10452</td>\n",
       "      <td>7/11/2022</td>\n",
       "      <td>Fries</td>\n",
       "      <td>3.49</td>\n",
       "      <td>573.07</td>\n",
       "      <td>Online</td>\n",
       "      <td>Gift Card</td>\n",
       "      <td>Tom      Jackson</td>\n",
       "      <td>London</td>\n",
       "    </tr>\n",
       "    <tr>\n",
       "      <th>1</th>\n",
       "      <td>10453</td>\n",
       "      <td>7/11/2022</td>\n",
       "      <td>Beverages</td>\n",
       "      <td>2.95</td>\n",
       "      <td>745.76</td>\n",
       "      <td>Online</td>\n",
       "      <td>Gift Card</td>\n",
       "      <td>Pablo Perez</td>\n",
       "      <td>Madrid</td>\n",
       "    </tr>\n",
       "    <tr>\n",
       "      <th>2</th>\n",
       "      <td>10454</td>\n",
       "      <td>7/11/2022</td>\n",
       "      <td>Sides &amp; Other</td>\n",
       "      <td>4.99</td>\n",
       "      <td>200.40</td>\n",
       "      <td>In-store</td>\n",
       "      <td>Gift Card</td>\n",
       "      <td>Joao    Silva</td>\n",
       "      <td>Lisbon</td>\n",
       "    </tr>\n",
       "    <tr>\n",
       "      <th>3</th>\n",
       "      <td>10455</td>\n",
       "      <td>8/11/2022</td>\n",
       "      <td>Burgers</td>\n",
       "      <td>12.99</td>\n",
       "      <td>569.67</td>\n",
       "      <td>In-store</td>\n",
       "      <td>Credit Card</td>\n",
       "      <td>Walter Muller</td>\n",
       "      <td>Berlin</td>\n",
       "    </tr>\n",
       "    <tr>\n",
       "      <th>4</th>\n",
       "      <td>10456</td>\n",
       "      <td>8/11/2022</td>\n",
       "      <td>Chicken Sandwiches</td>\n",
       "      <td>9.95</td>\n",
       "      <td>201.01</td>\n",
       "      <td>In-store</td>\n",
       "      <td>Credit Card</td>\n",
       "      <td>Walter Muller</td>\n",
       "      <td>Berlin</td>\n",
       "    </tr>\n",
       "    <tr>\n",
       "      <th>...</th>\n",
       "      <td>...</td>\n",
       "      <td>...</td>\n",
       "      <td>...</td>\n",
       "      <td>...</td>\n",
       "      <td>...</td>\n",
       "      <td>...</td>\n",
       "      <td>...</td>\n",
       "      <td>...</td>\n",
       "      <td>...</td>\n",
       "    </tr>\n",
       "    <tr>\n",
       "      <th>249</th>\n",
       "      <td>10709</td>\n",
       "      <td>28-12-2022</td>\n",
       "      <td>Sides &amp; Other</td>\n",
       "      <td>4.99</td>\n",
       "      <td>200.40</td>\n",
       "      <td>Drive-thru</td>\n",
       "      <td>Gift Card</td>\n",
       "      <td>Walter Muller</td>\n",
       "      <td>Berlin</td>\n",
       "    </tr>\n",
       "    <tr>\n",
       "      <th>250</th>\n",
       "      <td>10710</td>\n",
       "      <td>29-12-2022</td>\n",
       "      <td>Burgers</td>\n",
       "      <td>12.99</td>\n",
       "      <td>754.43</td>\n",
       "      <td>Drive-thru</td>\n",
       "      <td>Gift Card</td>\n",
       "      <td>Walter Muller</td>\n",
       "      <td>Berlin</td>\n",
       "    </tr>\n",
       "    <tr>\n",
       "      <th>251</th>\n",
       "      <td>10711</td>\n",
       "      <td>29-12-2022</td>\n",
       "      <td>Chicken Sandwiches</td>\n",
       "      <td>9.95</td>\n",
       "      <td>281.41</td>\n",
       "      <td>Drive-thru</td>\n",
       "      <td>Gift Card</td>\n",
       "      <td>Walter Muller</td>\n",
       "      <td>Berlin</td>\n",
       "    </tr>\n",
       "    <tr>\n",
       "      <th>252</th>\n",
       "      <td>10712</td>\n",
       "      <td>29-12-2022</td>\n",
       "      <td>Fries</td>\n",
       "      <td>3.49</td>\n",
       "      <td>630.37</td>\n",
       "      <td>Drive-thru</td>\n",
       "      <td>Gift Card</td>\n",
       "      <td>Walter Muller</td>\n",
       "      <td>Berlin</td>\n",
       "    </tr>\n",
       "    <tr>\n",
       "      <th>253</th>\n",
       "      <td>10713</td>\n",
       "      <td>29-12-2022</td>\n",
       "      <td>Beverages</td>\n",
       "      <td>2.95</td>\n",
       "      <td>677.97</td>\n",
       "      <td>Drive-thru</td>\n",
       "      <td>Gift Card</td>\n",
       "      <td>Walter Muller</td>\n",
       "      <td>Berlin</td>\n",
       "    </tr>\n",
       "  </tbody>\n",
       "</table>\n",
       "<p>254 rows × 9 columns</p>\n",
       "</div>"
      ],
      "text/plain": [
       "     Order ID        Date             Product  Price  Quantity Purchase Type  \\\n",
       "0       10452   7/11/2022               Fries   3.49    573.07       Online    \n",
       "1       10453   7/11/2022           Beverages   2.95    745.76       Online    \n",
       "2       10454   7/11/2022       Sides & Other   4.99    200.40     In-store    \n",
       "3       10455   8/11/2022             Burgers  12.99    569.67     In-store    \n",
       "4       10456   8/11/2022  Chicken Sandwiches   9.95    201.01     In-store    \n",
       "..        ...         ...                 ...    ...       ...           ...   \n",
       "249     10709  28-12-2022       Sides & Other   4.99    200.40   Drive-thru    \n",
       "250     10710  29-12-2022             Burgers  12.99    754.43   Drive-thru    \n",
       "251     10711  29-12-2022  Chicken Sandwiches   9.95    281.41   Drive-thru    \n",
       "252     10712  29-12-2022               Fries   3.49    630.37   Drive-thru    \n",
       "253     10713  29-12-2022           Beverages   2.95    677.97   Drive-thru    \n",
       "\n",
       "    Payment Method             Manager    City  \n",
       "0        Gift Card    Tom      Jackson  London  \n",
       "1        Gift Card         Pablo Perez  Madrid  \n",
       "2        Gift Card       Joao    Silva  Lisbon  \n",
       "3      Credit Card       Walter Muller  Berlin  \n",
       "4      Credit Card       Walter Muller  Berlin  \n",
       "..             ...                 ...     ...  \n",
       "249      Gift Card       Walter Muller  Berlin  \n",
       "250      Gift Card       Walter Muller  Berlin  \n",
       "251      Gift Card       Walter Muller  Berlin  \n",
       "252      Gift Card       Walter Muller  Berlin  \n",
       "253      Gift Card       Walter Muller  Berlin  \n",
       "\n",
       "[254 rows x 9 columns]"
      ]
     },
     "execution_count": 6,
     "metadata": {},
     "output_type": "execute_result"
    }
   ],
   "source": [
    "df"
   ]
  },
  {
   "cell_type": "code",
   "execution_count": 7,
   "id": "bfadde4e-bbb8-4694-9fe4-bc59e392b6f9",
   "metadata": {},
   "outputs": [
    {
     "data": {
      "text/plain": [
       "14"
      ]
     },
     "execution_count": 7,
     "metadata": {},
     "output_type": "execute_result"
    }
   ],
   "source": [
    "df.Manager.nunique()"
   ]
  },
  {
   "cell_type": "code",
   "execution_count": 8,
   "id": "adfb39ef-ced5-404a-86d0-70efb35a9120",
   "metadata": {},
   "outputs": [],
   "source": [
    "df[\"Manager\"]=df[\"Manager\"].str.strip().str.replace(r'\\s+',' ',regex='True')"
   ]
  },
  {
   "cell_type": "code",
   "execution_count": 9,
   "id": "81cccb8c-4c3d-43b4-8c50-2cdd48c74bde",
   "metadata": {},
   "outputs": [
    {
     "data": {
      "text/html": [
       "<div>\n",
       "<style scoped>\n",
       "    .dataframe tbody tr th:only-of-type {\n",
       "        vertical-align: middle;\n",
       "    }\n",
       "\n",
       "    .dataframe tbody tr th {\n",
       "        vertical-align: top;\n",
       "    }\n",
       "\n",
       "    .dataframe thead th {\n",
       "        text-align: right;\n",
       "    }\n",
       "</style>\n",
       "<table border=\"1\" class=\"dataframe\">\n",
       "  <thead>\n",
       "    <tr style=\"text-align: right;\">\n",
       "      <th></th>\n",
       "      <th>Order ID</th>\n",
       "      <th>Date</th>\n",
       "      <th>Product</th>\n",
       "      <th>Price</th>\n",
       "      <th>Quantity</th>\n",
       "      <th>Purchase Type</th>\n",
       "      <th>Payment Method</th>\n",
       "      <th>Manager</th>\n",
       "      <th>City</th>\n",
       "    </tr>\n",
       "  </thead>\n",
       "  <tbody>\n",
       "    <tr>\n",
       "      <th>0</th>\n",
       "      <td>10452</td>\n",
       "      <td>7/11/2022</td>\n",
       "      <td>Fries</td>\n",
       "      <td>3.49</td>\n",
       "      <td>573.07</td>\n",
       "      <td>Online</td>\n",
       "      <td>Gift Card</td>\n",
       "      <td>Tom Jackson</td>\n",
       "      <td>London</td>\n",
       "    </tr>\n",
       "    <tr>\n",
       "      <th>1</th>\n",
       "      <td>10453</td>\n",
       "      <td>7/11/2022</td>\n",
       "      <td>Beverages</td>\n",
       "      <td>2.95</td>\n",
       "      <td>745.76</td>\n",
       "      <td>Online</td>\n",
       "      <td>Gift Card</td>\n",
       "      <td>Pablo Perez</td>\n",
       "      <td>Madrid</td>\n",
       "    </tr>\n",
       "    <tr>\n",
       "      <th>2</th>\n",
       "      <td>10454</td>\n",
       "      <td>7/11/2022</td>\n",
       "      <td>Sides &amp; Other</td>\n",
       "      <td>4.99</td>\n",
       "      <td>200.40</td>\n",
       "      <td>In-store</td>\n",
       "      <td>Gift Card</td>\n",
       "      <td>Joao Silva</td>\n",
       "      <td>Lisbon</td>\n",
       "    </tr>\n",
       "    <tr>\n",
       "      <th>3</th>\n",
       "      <td>10455</td>\n",
       "      <td>8/11/2022</td>\n",
       "      <td>Burgers</td>\n",
       "      <td>12.99</td>\n",
       "      <td>569.67</td>\n",
       "      <td>In-store</td>\n",
       "      <td>Credit Card</td>\n",
       "      <td>Walter Muller</td>\n",
       "      <td>Berlin</td>\n",
       "    </tr>\n",
       "    <tr>\n",
       "      <th>4</th>\n",
       "      <td>10456</td>\n",
       "      <td>8/11/2022</td>\n",
       "      <td>Chicken Sandwiches</td>\n",
       "      <td>9.95</td>\n",
       "      <td>201.01</td>\n",
       "      <td>In-store</td>\n",
       "      <td>Credit Card</td>\n",
       "      <td>Walter Muller</td>\n",
       "      <td>Berlin</td>\n",
       "    </tr>\n",
       "    <tr>\n",
       "      <th>...</th>\n",
       "      <td>...</td>\n",
       "      <td>...</td>\n",
       "      <td>...</td>\n",
       "      <td>...</td>\n",
       "      <td>...</td>\n",
       "      <td>...</td>\n",
       "      <td>...</td>\n",
       "      <td>...</td>\n",
       "      <td>...</td>\n",
       "    </tr>\n",
       "    <tr>\n",
       "      <th>249</th>\n",
       "      <td>10709</td>\n",
       "      <td>28-12-2022</td>\n",
       "      <td>Sides &amp; Other</td>\n",
       "      <td>4.99</td>\n",
       "      <td>200.40</td>\n",
       "      <td>Drive-thru</td>\n",
       "      <td>Gift Card</td>\n",
       "      <td>Walter Muller</td>\n",
       "      <td>Berlin</td>\n",
       "    </tr>\n",
       "    <tr>\n",
       "      <th>250</th>\n",
       "      <td>10710</td>\n",
       "      <td>29-12-2022</td>\n",
       "      <td>Burgers</td>\n",
       "      <td>12.99</td>\n",
       "      <td>754.43</td>\n",
       "      <td>Drive-thru</td>\n",
       "      <td>Gift Card</td>\n",
       "      <td>Walter Muller</td>\n",
       "      <td>Berlin</td>\n",
       "    </tr>\n",
       "    <tr>\n",
       "      <th>251</th>\n",
       "      <td>10711</td>\n",
       "      <td>29-12-2022</td>\n",
       "      <td>Chicken Sandwiches</td>\n",
       "      <td>9.95</td>\n",
       "      <td>281.41</td>\n",
       "      <td>Drive-thru</td>\n",
       "      <td>Gift Card</td>\n",
       "      <td>Walter Muller</td>\n",
       "      <td>Berlin</td>\n",
       "    </tr>\n",
       "    <tr>\n",
       "      <th>252</th>\n",
       "      <td>10712</td>\n",
       "      <td>29-12-2022</td>\n",
       "      <td>Fries</td>\n",
       "      <td>3.49</td>\n",
       "      <td>630.37</td>\n",
       "      <td>Drive-thru</td>\n",
       "      <td>Gift Card</td>\n",
       "      <td>Walter Muller</td>\n",
       "      <td>Berlin</td>\n",
       "    </tr>\n",
       "    <tr>\n",
       "      <th>253</th>\n",
       "      <td>10713</td>\n",
       "      <td>29-12-2022</td>\n",
       "      <td>Beverages</td>\n",
       "      <td>2.95</td>\n",
       "      <td>677.97</td>\n",
       "      <td>Drive-thru</td>\n",
       "      <td>Gift Card</td>\n",
       "      <td>Walter Muller</td>\n",
       "      <td>Berlin</td>\n",
       "    </tr>\n",
       "  </tbody>\n",
       "</table>\n",
       "<p>254 rows × 9 columns</p>\n",
       "</div>"
      ],
      "text/plain": [
       "     Order ID        Date             Product  Price  Quantity Purchase Type  \\\n",
       "0       10452   7/11/2022               Fries   3.49    573.07       Online    \n",
       "1       10453   7/11/2022           Beverages   2.95    745.76       Online    \n",
       "2       10454   7/11/2022       Sides & Other   4.99    200.40     In-store    \n",
       "3       10455   8/11/2022             Burgers  12.99    569.67     In-store    \n",
       "4       10456   8/11/2022  Chicken Sandwiches   9.95    201.01     In-store    \n",
       "..        ...         ...                 ...    ...       ...           ...   \n",
       "249     10709  28-12-2022       Sides & Other   4.99    200.40   Drive-thru    \n",
       "250     10710  29-12-2022             Burgers  12.99    754.43   Drive-thru    \n",
       "251     10711  29-12-2022  Chicken Sandwiches   9.95    281.41   Drive-thru    \n",
       "252     10712  29-12-2022               Fries   3.49    630.37   Drive-thru    \n",
       "253     10713  29-12-2022           Beverages   2.95    677.97   Drive-thru    \n",
       "\n",
       "    Payment Method        Manager    City  \n",
       "0        Gift Card    Tom Jackson  London  \n",
       "1        Gift Card    Pablo Perez  Madrid  \n",
       "2        Gift Card     Joao Silva  Lisbon  \n",
       "3      Credit Card  Walter Muller  Berlin  \n",
       "4      Credit Card  Walter Muller  Berlin  \n",
       "..             ...            ...     ...  \n",
       "249      Gift Card  Walter Muller  Berlin  \n",
       "250      Gift Card  Walter Muller  Berlin  \n",
       "251      Gift Card  Walter Muller  Berlin  \n",
       "252      Gift Card  Walter Muller  Berlin  \n",
       "253      Gift Card  Walter Muller  Berlin  \n",
       "\n",
       "[254 rows x 9 columns]"
      ]
     },
     "execution_count": 9,
     "metadata": {},
     "output_type": "execute_result"
    }
   ],
   "source": [
    "df"
   ]
  },
  {
   "cell_type": "code",
   "execution_count": 10,
   "id": "084a0225-a5aa-40ce-a08b-2be542a1098b",
   "metadata": {},
   "outputs": [
    {
     "data": {
      "text/plain": [
       "array(['Tom Jackson', 'Pablo Perez', 'Joao Silva', 'Walter Muller',\n",
       "       'Remy Monet'], dtype=object)"
      ]
     },
     "execution_count": 10,
     "metadata": {},
     "output_type": "execute_result"
    }
   ],
   "source": [
    "df[\"Manager\"].unique()"
   ]
  },
  {
   "cell_type": "code",
   "execution_count": 11,
   "id": "ea7e845a-52f7-4045-aa8a-f5f77a21075e",
   "metadata": {},
   "outputs": [
    {
     "data": {
      "text/plain": [
       "0      573.0\n",
       "1      746.0\n",
       "2      200.0\n",
       "3      570.0\n",
       "4      201.0\n",
       "       ...  \n",
       "249    200.0\n",
       "250    754.0\n",
       "251    281.0\n",
       "252    630.0\n",
       "253    678.0\n",
       "Name: Quantity, Length: 254, dtype: float64"
      ]
     },
     "execution_count": 11,
     "metadata": {},
     "output_type": "execute_result"
    }
   ],
   "source": [
    "df['Quantity'].round()"
   ]
  },
  {
   "cell_type": "code",
   "execution_count": 12,
   "id": "db8dc24d-37b1-4836-a4b7-6c0a16f75a5d",
   "metadata": {},
   "outputs": [
    {
     "data": {
      "text/html": [
       "<div>\n",
       "<style scoped>\n",
       "    .dataframe tbody tr th:only-of-type {\n",
       "        vertical-align: middle;\n",
       "    }\n",
       "\n",
       "    .dataframe tbody tr th {\n",
       "        vertical-align: top;\n",
       "    }\n",
       "\n",
       "    .dataframe thead th {\n",
       "        text-align: right;\n",
       "    }\n",
       "</style>\n",
       "<table border=\"1\" class=\"dataframe\">\n",
       "  <thead>\n",
       "    <tr style=\"text-align: right;\">\n",
       "      <th></th>\n",
       "      <th>Order ID</th>\n",
       "      <th>Date</th>\n",
       "      <th>Product</th>\n",
       "      <th>Price</th>\n",
       "      <th>Quantity</th>\n",
       "      <th>Purchase Type</th>\n",
       "      <th>Payment Method</th>\n",
       "      <th>Manager</th>\n",
       "      <th>City</th>\n",
       "    </tr>\n",
       "  </thead>\n",
       "  <tbody>\n",
       "    <tr>\n",
       "      <th>0</th>\n",
       "      <td>10452</td>\n",
       "      <td>7/11/2022</td>\n",
       "      <td>Fries</td>\n",
       "      <td>3.49</td>\n",
       "      <td>573.07</td>\n",
       "      <td>Online</td>\n",
       "      <td>Gift Card</td>\n",
       "      <td>Tom Jackson</td>\n",
       "      <td>London</td>\n",
       "    </tr>\n",
       "    <tr>\n",
       "      <th>1</th>\n",
       "      <td>10453</td>\n",
       "      <td>7/11/2022</td>\n",
       "      <td>Beverages</td>\n",
       "      <td>2.95</td>\n",
       "      <td>745.76</td>\n",
       "      <td>Online</td>\n",
       "      <td>Gift Card</td>\n",
       "      <td>Pablo Perez</td>\n",
       "      <td>Madrid</td>\n",
       "    </tr>\n",
       "    <tr>\n",
       "      <th>2</th>\n",
       "      <td>10454</td>\n",
       "      <td>7/11/2022</td>\n",
       "      <td>Sides &amp; Other</td>\n",
       "      <td>4.99</td>\n",
       "      <td>200.40</td>\n",
       "      <td>In-store</td>\n",
       "      <td>Gift Card</td>\n",
       "      <td>Joao Silva</td>\n",
       "      <td>Lisbon</td>\n",
       "    </tr>\n",
       "    <tr>\n",
       "      <th>3</th>\n",
       "      <td>10455</td>\n",
       "      <td>8/11/2022</td>\n",
       "      <td>Burgers</td>\n",
       "      <td>12.99</td>\n",
       "      <td>569.67</td>\n",
       "      <td>In-store</td>\n",
       "      <td>Credit Card</td>\n",
       "      <td>Walter Muller</td>\n",
       "      <td>Berlin</td>\n",
       "    </tr>\n",
       "    <tr>\n",
       "      <th>4</th>\n",
       "      <td>10456</td>\n",
       "      <td>8/11/2022</td>\n",
       "      <td>Chicken Sandwiches</td>\n",
       "      <td>9.95</td>\n",
       "      <td>201.01</td>\n",
       "      <td>In-store</td>\n",
       "      <td>Credit Card</td>\n",
       "      <td>Walter Muller</td>\n",
       "      <td>Berlin</td>\n",
       "    </tr>\n",
       "    <tr>\n",
       "      <th>...</th>\n",
       "      <td>...</td>\n",
       "      <td>...</td>\n",
       "      <td>...</td>\n",
       "      <td>...</td>\n",
       "      <td>...</td>\n",
       "      <td>...</td>\n",
       "      <td>...</td>\n",
       "      <td>...</td>\n",
       "      <td>...</td>\n",
       "    </tr>\n",
       "    <tr>\n",
       "      <th>249</th>\n",
       "      <td>10709</td>\n",
       "      <td>28-12-2022</td>\n",
       "      <td>Sides &amp; Other</td>\n",
       "      <td>4.99</td>\n",
       "      <td>200.40</td>\n",
       "      <td>Drive-thru</td>\n",
       "      <td>Gift Card</td>\n",
       "      <td>Walter Muller</td>\n",
       "      <td>Berlin</td>\n",
       "    </tr>\n",
       "    <tr>\n",
       "      <th>250</th>\n",
       "      <td>10710</td>\n",
       "      <td>29-12-2022</td>\n",
       "      <td>Burgers</td>\n",
       "      <td>12.99</td>\n",
       "      <td>754.43</td>\n",
       "      <td>Drive-thru</td>\n",
       "      <td>Gift Card</td>\n",
       "      <td>Walter Muller</td>\n",
       "      <td>Berlin</td>\n",
       "    </tr>\n",
       "    <tr>\n",
       "      <th>251</th>\n",
       "      <td>10711</td>\n",
       "      <td>29-12-2022</td>\n",
       "      <td>Chicken Sandwiches</td>\n",
       "      <td>9.95</td>\n",
       "      <td>281.41</td>\n",
       "      <td>Drive-thru</td>\n",
       "      <td>Gift Card</td>\n",
       "      <td>Walter Muller</td>\n",
       "      <td>Berlin</td>\n",
       "    </tr>\n",
       "    <tr>\n",
       "      <th>252</th>\n",
       "      <td>10712</td>\n",
       "      <td>29-12-2022</td>\n",
       "      <td>Fries</td>\n",
       "      <td>3.49</td>\n",
       "      <td>630.37</td>\n",
       "      <td>Drive-thru</td>\n",
       "      <td>Gift Card</td>\n",
       "      <td>Walter Muller</td>\n",
       "      <td>Berlin</td>\n",
       "    </tr>\n",
       "    <tr>\n",
       "      <th>253</th>\n",
       "      <td>10713</td>\n",
       "      <td>29-12-2022</td>\n",
       "      <td>Beverages</td>\n",
       "      <td>2.95</td>\n",
       "      <td>677.97</td>\n",
       "      <td>Drive-thru</td>\n",
       "      <td>Gift Card</td>\n",
       "      <td>Walter Muller</td>\n",
       "      <td>Berlin</td>\n",
       "    </tr>\n",
       "  </tbody>\n",
       "</table>\n",
       "<p>254 rows × 9 columns</p>\n",
       "</div>"
      ],
      "text/plain": [
       "     Order ID        Date             Product  Price  Quantity Purchase Type  \\\n",
       "0       10452   7/11/2022               Fries   3.49    573.07       Online    \n",
       "1       10453   7/11/2022           Beverages   2.95    745.76       Online    \n",
       "2       10454   7/11/2022       Sides & Other   4.99    200.40     In-store    \n",
       "3       10455   8/11/2022             Burgers  12.99    569.67     In-store    \n",
       "4       10456   8/11/2022  Chicken Sandwiches   9.95    201.01     In-store    \n",
       "..        ...         ...                 ...    ...       ...           ...   \n",
       "249     10709  28-12-2022       Sides & Other   4.99    200.40   Drive-thru    \n",
       "250     10710  29-12-2022             Burgers  12.99    754.43   Drive-thru    \n",
       "251     10711  29-12-2022  Chicken Sandwiches   9.95    281.41   Drive-thru    \n",
       "252     10712  29-12-2022               Fries   3.49    630.37   Drive-thru    \n",
       "253     10713  29-12-2022           Beverages   2.95    677.97   Drive-thru    \n",
       "\n",
       "    Payment Method        Manager    City  \n",
       "0        Gift Card    Tom Jackson  London  \n",
       "1        Gift Card    Pablo Perez  Madrid  \n",
       "2        Gift Card     Joao Silva  Lisbon  \n",
       "3      Credit Card  Walter Muller  Berlin  \n",
       "4      Credit Card  Walter Muller  Berlin  \n",
       "..             ...            ...     ...  \n",
       "249      Gift Card  Walter Muller  Berlin  \n",
       "250      Gift Card  Walter Muller  Berlin  \n",
       "251      Gift Card  Walter Muller  Berlin  \n",
       "252      Gift Card  Walter Muller  Berlin  \n",
       "253      Gift Card  Walter Muller  Berlin  \n",
       "\n",
       "[254 rows x 9 columns]"
      ]
     },
     "execution_count": 12,
     "metadata": {},
     "output_type": "execute_result"
    }
   ],
   "source": [
    "df"
   ]
  },
  {
   "cell_type": "code",
   "execution_count": 13,
   "id": "eb691d85-dcf5-4594-ae23-5a54c12692e4",
   "metadata": {},
   "outputs": [
    {
     "data": {
      "text/plain": [
       "5"
      ]
     },
     "execution_count": 13,
     "metadata": {},
     "output_type": "execute_result"
    }
   ],
   "source": [
    "df.Manager.nunique()"
   ]
  },
  {
   "cell_type": "code",
   "execution_count": 14,
   "id": "280dfcad-55c5-466e-8831-3205b64103a9",
   "metadata": {},
   "outputs": [
    {
     "data": {
      "text/plain": [
       "0       7/11/2022\n",
       "1       7/11/2022\n",
       "2       7/11/2022\n",
       "3       8/11/2022\n",
       "4       8/11/2022\n",
       "          ...    \n",
       "249    28-12-2022\n",
       "250    29-12-2022\n",
       "251    29-12-2022\n",
       "252    29-12-2022\n",
       "253    29-12-2022\n",
       "Name: Date, Length: 254, dtype: object"
      ]
     },
     "execution_count": 14,
     "metadata": {},
     "output_type": "execute_result"
    }
   ],
   "source": [
    "df.Date"
   ]
  },
  {
   "cell_type": "code",
   "execution_count": 15,
   "id": "b28cdbfa-5802-40b4-be45-b8c1db20d581",
   "metadata": {},
   "outputs": [
    {
     "data": {
      "text/plain": [
       "0     2022-07-11\n",
       "1     2022-07-11\n",
       "2     2022-07-11\n",
       "3     2022-08-11\n",
       "4     2022-08-11\n",
       "         ...    \n",
       "249   2022-12-28\n",
       "250   2022-12-29\n",
       "251   2022-12-29\n",
       "252   2022-12-29\n",
       "253   2022-12-29\n",
       "Name: Date, Length: 254, dtype: datetime64[ns]"
      ]
     },
     "execution_count": 15,
     "metadata": {},
     "output_type": "execute_result"
    }
   ],
   "source": [
    "pd.to_datetime(df.Date, format= 'mixed')"
   ]
  },
  {
   "cell_type": "code",
   "execution_count": 16,
   "id": "1bff95db-1424-4ef5-906e-c1381e66b8f1",
   "metadata": {},
   "outputs": [],
   "source": [
    "df['Sales'] = df['Price'] * df['Quantity']"
   ]
  },
  {
   "cell_type": "code",
   "execution_count": 17,
   "id": "2961e7e7-1cd6-4526-b9ac-6c4262960902",
   "metadata": {},
   "outputs": [],
   "source": [
    "#manager vs sales\n",
    "\n",
    "\n",
    "df2=df.groupby('Manager')['Sales'].sum()"
   ]
  },
  {
   "cell_type": "code",
   "execution_count": 18,
   "id": "18e7660f-8eb9-403d-82d5-0323243ca99c",
   "metadata": {},
   "outputs": [
    {
     "data": {
      "text/plain": [
       "Manager\n",
       "Joao Silva       241714.1157\n",
       "Pablo Perez      136200.2665\n",
       "Remy Monet        79800.3051\n",
       "Tom Jackson      211201.0406\n",
       "Walter Muller    100600.1313\n",
       "Name: Sales, dtype: float64"
      ]
     },
     "execution_count": 18,
     "metadata": {},
     "output_type": "execute_result"
    }
   ],
   "source": [
    "df2"
   ]
  },
  {
   "cell_type": "code",
   "execution_count": 19,
   "id": "ac533a02-628d-4a52-8824-5baaac920d48",
   "metadata": {},
   "outputs": [
    {
     "data": {
      "text/plain": [
       "pandas.core.series.Series"
      ]
     },
     "execution_count": 19,
     "metadata": {},
     "output_type": "execute_result"
    }
   ],
   "source": [
    "type(df2)"
   ]
  },
  {
   "cell_type": "code",
   "execution_count": 20,
   "id": "d982dcc7-bf14-4645-b2c8-2dc0d73ce537",
   "metadata": {},
   "outputs": [],
   "source": [
    "df2=df2.reset_index()"
   ]
  },
  {
   "cell_type": "code",
   "execution_count": 21,
   "id": "03826581-a85e-4b2a-8314-11cb07fe2815",
   "metadata": {},
   "outputs": [
    {
     "data": {
      "text/plain": [
       "pandas.core.frame.DataFrame"
      ]
     },
     "execution_count": 21,
     "metadata": {},
     "output_type": "execute_result"
    }
   ],
   "source": [
    "type(df2)"
   ]
  },
  {
   "cell_type": "code",
   "execution_count": 22,
   "id": "fdfc0f4e-5add-430d-b279-4560deee0a38",
   "metadata": {},
   "outputs": [
    {
     "data": {
      "text/plain": [
       "<Axes: >"
      ]
     },
     "execution_count": 22,
     "metadata": {},
     "output_type": "execute_result"
    },
    {
     "data": {
      "image/png": "[encoded data removed]",
      "text/plain": [
       "<Figure size 640x480 with 1 Axes>"
      ]
     },
     "metadata": {},
     "output_type": "display_data"
    }
   ],
   "source": [
    "df2.plot(kind=\"bar\")"
   ]
  },
  {
   "cell_type": "code",
   "execution_count": 23,
   "id": "fe65b7bb-f2c9-4414-8275-3847cdff9876",
   "metadata": {},
   "outputs": [],
   "source": [
    "import matplotlib.pyplot as plt"
   ]
  },
  {
   "cell_type": "code",
   "execution_count": 39,
   "id": "6edfd665-cdef-45b2-a741-3ba389426480",
   "metadata": {},
   "outputs": [
    {
     "data": {
      "text/plain": [
       "<BarContainer object of 5 artists>"
      ]
     },
     "execution_count": 39,
     "metadata": {},
     "output_type": "execute_result"
    },
    {
     "data": {
      "image/png": "[encoded data removed]",
      "text/plain": [
       "<Figure size 640x480 with 1 Axes>"
      ]
     },
     "metadata": {},
     "output_type": "display_data"
    }
   ],
   "source": [
    "plt.bar(df2['Manager'],df2['Sales'],color=['red','blue','green','yellow','black'])"
   ]
  },
  {
   "cell_type": "code",
   "execution_count": 32,
   "id": "52764cb1-bc93-4add-bc27-0b1a67b66467",
   "metadata": {},
   "outputs": [],
   "source": [
    "df3=df['Payment Method'].value_counts()"
   ]
  },
  {
   "cell_type": "code",
   "execution_count": 33,
   "id": "b17463e4-0134-4e9d-8cc0-aa66ef1a17f2",
   "metadata": {},
   "outputs": [
    {
     "data": {
      "text/plain": [
       "Payment Method\n",
       "Credit Card    120\n",
       "Cash            76\n",
       "Gift Card       58\n",
       "Name: count, dtype: int64"
      ]
     },
     "execution_count": 33,
     "metadata": {},
     "output_type": "execute_result"
    }
   ],
   "source": [
    "df3"
   ]
  },
  {
   "cell_type": "code",
   "execution_count": null,
   "id": "d21b6b3d-097b-40d0-a21a-f018df941922",
   "metadata": {},
   "outputs": [],
   "source": [
    "plt.pie(df3,labels=['Credit Card','Cash','Gift Card'],autopct='%1.1f%%')"
   ]
  },
  {
   "cell_type": "code",
   "execution_count": 25,
   "id": "5ce57521-c642-4601-b812-f224bca07c99",
   "metadata": {},
   "outputs": [
    {
     "data": {
      "text/html": [
       "<div>\n",
       "<style scoped>\n",
       "    .dataframe tbody tr th:only-of-type {\n",
       "        vertical-align: middle;\n",
       "    }\n",
       "\n",
       "    .dataframe tbody tr th {\n",
       "        vertical-align: top;\n",
       "    }\n",
       "\n",
       "    .dataframe thead th {\n",
       "        text-align: right;\n",
       "    }\n",
       "</style>\n",
       "<table border=\"1\" class=\"dataframe\">\n",
       "  <thead>\n",
       "    <tr style=\"text-align: right;\">\n",
       "      <th></th>\n",
       "      <th>Order ID</th>\n",
       "      <th>Date</th>\n",
       "      <th>Product</th>\n",
       "      <th>Price</th>\n",
       "      <th>Quantity</th>\n",
       "      <th>Purchase Type</th>\n",
       "      <th>Payment Method</th>\n",
       "      <th>Manager</th>\n",
       "      <th>City</th>\n",
       "      <th>Sales</th>\n",
       "    </tr>\n",
       "  </thead>\n",
       "  <tbody>\n",
       "    <tr>\n",
       "      <th>0</th>\n",
       "      <td>10452</td>\n",
       "      <td>7/11/2022</td>\n",
       "      <td>Fries</td>\n",
       "      <td>3.49</td>\n",
       "      <td>573.07</td>\n",
       "      <td>Online</td>\n",
       "      <td>Gift Card</td>\n",
       "      <td>Tom Jackson</td>\n",
       "      <td>London</td>\n",
       "      <td>2000.0143</td>\n",
       "    </tr>\n",
       "    <tr>\n",
       "      <th>1</th>\n",
       "      <td>10453</td>\n",
       "      <td>7/11/2022</td>\n",
       "      <td>Beverages</td>\n",
       "      <td>2.95</td>\n",
       "      <td>745.76</td>\n",
       "      <td>Online</td>\n",
       "      <td>Gift Card</td>\n",
       "      <td>Pablo Perez</td>\n",
       "      <td>Madrid</td>\n",
       "      <td>2199.9920</td>\n",
       "    </tr>\n",
       "    <tr>\n",
       "      <th>2</th>\n",
       "      <td>10454</td>\n",
       "      <td>7/11/2022</td>\n",
       "      <td>Sides &amp; Other</td>\n",
       "      <td>4.99</td>\n",
       "      <td>200.40</td>\n",
       "      <td>In-store</td>\n",
       "      <td>Gift Card</td>\n",
       "      <td>Joao Silva</td>\n",
       "      <td>Lisbon</td>\n",
       "      <td>999.9960</td>\n",
       "    </tr>\n",
       "    <tr>\n",
       "      <th>3</th>\n",
       "      <td>10455</td>\n",
       "      <td>8/11/2022</td>\n",
       "      <td>Burgers</td>\n",
       "      <td>12.99</td>\n",
       "      <td>569.67</td>\n",
       "      <td>In-store</td>\n",
       "      <td>Credit Card</td>\n",
       "      <td>Walter Muller</td>\n",
       "      <td>Berlin</td>\n",
       "      <td>7400.0133</td>\n",
       "    </tr>\n",
       "    <tr>\n",
       "      <th>4</th>\n",
       "      <td>10456</td>\n",
       "      <td>8/11/2022</td>\n",
       "      <td>Chicken Sandwiches</td>\n",
       "      <td>9.95</td>\n",
       "      <td>201.01</td>\n",
       "      <td>In-store</td>\n",
       "      <td>Credit Card</td>\n",
       "      <td>Walter Muller</td>\n",
       "      <td>Berlin</td>\n",
       "      <td>2000.0495</td>\n",
       "    </tr>\n",
       "    <tr>\n",
       "      <th>...</th>\n",
       "      <td>...</td>\n",
       "      <td>...</td>\n",
       "      <td>...</td>\n",
       "      <td>...</td>\n",
       "      <td>...</td>\n",
       "      <td>...</td>\n",
       "      <td>...</td>\n",
       "      <td>...</td>\n",
       "      <td>...</td>\n",
       "      <td>...</td>\n",
       "    </tr>\n",
       "    <tr>\n",
       "      <th>249</th>\n",
       "      <td>10709</td>\n",
       "      <td>28-12-2022</td>\n",
       "      <td>Sides &amp; Other</td>\n",
       "      <td>4.99</td>\n",
       "      <td>200.40</td>\n",
       "      <td>Drive-thru</td>\n",
       "      <td>Gift Card</td>\n",
       "      <td>Walter Muller</td>\n",
       "      <td>Berlin</td>\n",
       "      <td>999.9960</td>\n",
       "    </tr>\n",
       "    <tr>\n",
       "      <th>250</th>\n",
       "      <td>10710</td>\n",
       "      <td>29-12-2022</td>\n",
       "      <td>Burgers</td>\n",
       "      <td>12.99</td>\n",
       "      <td>754.43</td>\n",
       "      <td>Drive-thru</td>\n",
       "      <td>Gift Card</td>\n",
       "      <td>Walter Muller</td>\n",
       "      <td>Berlin</td>\n",
       "      <td>9800.0457</td>\n",
       "    </tr>\n",
       "    <tr>\n",
       "      <th>251</th>\n",
       "      <td>10711</td>\n",
       "      <td>29-12-2022</td>\n",
       "      <td>Chicken Sandwiches</td>\n",
       "      <td>9.95</td>\n",
       "      <td>281.41</td>\n",
       "      <td>Drive-thru</td>\n",
       "      <td>Gift Card</td>\n",
       "      <td>Walter Muller</td>\n",
       "      <td>Berlin</td>\n",
       "      <td>2800.0295</td>\n",
       "    </tr>\n",
       "    <tr>\n",
       "      <th>252</th>\n",
       "      <td>10712</td>\n",
       "      <td>29-12-2022</td>\n",
       "      <td>Fries</td>\n",
       "      <td>3.49</td>\n",
       "      <td>630.37</td>\n",
       "      <td>Drive-thru</td>\n",
       "      <td>Gift Card</td>\n",
       "      <td>Walter Muller</td>\n",
       "      <td>Berlin</td>\n",
       "      <td>2199.9913</td>\n",
       "    </tr>\n",
       "    <tr>\n",
       "      <th>253</th>\n",
       "      <td>10713</td>\n",
       "      <td>29-12-2022</td>\n",
       "      <td>Beverages</td>\n",
       "      <td>2.95</td>\n",
       "      <td>677.97</td>\n",
       "      <td>Drive-thru</td>\n",
       "      <td>Gift Card</td>\n",
       "      <td>Walter Muller</td>\n",
       "      <td>Berlin</td>\n",
       "      <td>2000.0115</td>\n",
       "    </tr>\n",
       "  </tbody>\n",
       "</table>\n",
       "<p>254 rows × 10 columns</p>\n",
       "</div>"
      ],
      "text/plain": [
       "     Order ID        Date             Product  Price  Quantity Purchase Type  \\\n",
       "0       10452   7/11/2022               Fries   3.49    573.07       Online    \n",
       "1       10453   7/11/2022           Beverages   2.95    745.76       Online    \n",
       "2       10454   7/11/2022       Sides & Other   4.99    200.40     In-store    \n",
       "3       10455   8/11/2022             Burgers  12.99    569.67     In-store    \n",
       "4       10456   8/11/2022  Chicken Sandwiches   9.95    201.01     In-store    \n",
       "..        ...         ...                 ...    ...       ...           ...   \n",
       "249     10709  28-12-2022       Sides & Other   4.99    200.40   Drive-thru    \n",
       "250     10710  29-12-2022             Burgers  12.99    754.43   Drive-thru    \n",
       "251     10711  29-12-2022  Chicken Sandwiches   9.95    281.41   Drive-thru    \n",
       "252     10712  29-12-2022               Fries   3.49    630.37   Drive-thru    \n",
       "253     10713  29-12-2022           Beverages   2.95    677.97   Drive-thru    \n",
       "\n",
       "    Payment Method        Manager    City      Sales  \n",
       "0        Gift Card    Tom Jackson  London  2000.0143  \n",
       "1        Gift Card    Pablo Perez  Madrid  2199.9920  \n",
       "2        Gift Card     Joao Silva  Lisbon   999.9960  \n",
       "3      Credit Card  Walter Muller  Berlin  7400.0133  \n",
       "4      Credit Card  Walter Muller  Berlin  2000.0495  \n",
       "..             ...            ...     ...        ...  \n",
       "249      Gift Card  Walter Muller  Berlin   999.9960  \n",
       "250      Gift Card  Walter Muller  Berlin  9800.0457  \n",
       "251      Gift Card  Walter Muller  Berlin  2800.0295  \n",
       "252      Gift Card  Walter Muller  Berlin  2199.9913  \n",
       "253      Gift Card  Walter Muller  Berlin  2000.0115  \n",
       "\n",
       "[254 rows x 10 columns]"
      ]
     },
     "execution_count": 25,
     "metadata": {},
     "output_type": "execute_result"
    }
   ],
   "source": [
    "df['Sales']=df['Price']*df['Quantity']\n",
    "df"
   ]
  },
  {
   "cell_type": "code",
   "execution_count": 30,
   "id": "0af217f7-96c3-4b18-9b13-f3915d634b58",
   "metadata": {},
   "outputs": [
    {
     "data": {
      "text/html": [
       "<div>\n",
       "<style scoped>\n",
       "    .dataframe tbody tr th:only-of-type {\n",
       "        vertical-align: middle;\n",
       "    }\n",
       "\n",
       "    .dataframe tbody tr th {\n",
       "        vertical-align: top;\n",
       "    }\n",
       "\n",
       "    .dataframe thead th {\n",
       "        text-align: right;\n",
       "    }\n",
       "</style>\n",
       "<table border=\"1\" class=\"dataframe\">\n",
       "  <thead>\n",
       "    <tr style=\"text-align: right;\">\n",
       "      <th></th>\n",
       "      <th>Product</th>\n",
       "      <th>Sales</th>\n",
       "    </tr>\n",
       "  </thead>\n",
       "  <tbody>\n",
       "    <tr>\n",
       "      <th>0</th>\n",
       "      <td>Burgers</td>\n",
       "      <td>376999.8069</td>\n",
       "    </tr>\n",
       "    <tr>\n",
       "      <th>1</th>\n",
       "      <td>Fries</td>\n",
       "      <td>125674.2903</td>\n",
       "    </tr>\n",
       "    <tr>\n",
       "      <th>2</th>\n",
       "      <td>Chicken Sandwiches</td>\n",
       "      <td>114641.6950</td>\n",
       "    </tr>\n",
       "    <tr>\n",
       "      <th>3</th>\n",
       "      <td>Beverages</td>\n",
       "      <td>103200.2630</td>\n",
       "    </tr>\n",
       "    <tr>\n",
       "      <th>4</th>\n",
       "      <td>Sides &amp; Other</td>\n",
       "      <td>48999.8040</td>\n",
       "    </tr>\n",
       "  </tbody>\n",
       "</table>\n",
       "</div>"
      ],
      "text/plain": [
       "              Product        Sales\n",
       "0             Burgers  376999.8069\n",
       "1               Fries  125674.2903\n",
       "2  Chicken Sandwiches  114641.6950\n",
       "3           Beverages  103200.2630\n",
       "4       Sides & Other   48999.8040"
      ]
     },
     "execution_count": 30,
     "metadata": {},
     "output_type": "execute_result"
    }
   ],
   "source": [
    "ss=df.groupby('Product')['Sales'].sum().sort_values(ascending=False).reset_index()\n",
    "ss"
   ]
  },
  {
   "cell_type": "code",
   "execution_count": 41,
   "id": "9e7a6d51-71a0-484f-815d-851432f001e5",
   "metadata": {},
   "outputs": [
    {
     "data": {
      "text/plain": [
       "<BarContainer object of 5 artists>"
      ]
     },
     "execution_count": 41,
     "metadata": {},
     "output_type": "execute_result"
    },
    {
     "data": {
      "image/png": "[encoded data removed]",
      "text/plain": [
       "<Figure size 640x480 with 1 Axes>"
      ]
     },
     "metadata": {},
     "output_type": "display_data"
    }
   ],
   "source": [
    "plt.bar(ss['Product'],ss['Sales'])"
   ]
  },
  {
   "cell_type": "code",
   "execution_count": 46,
   "id": "5f94bd7b-b8b6-49cd-a54b-881f2d3f8bfa",
   "metadata": {},
   "outputs": [
    {
     "ename": "KeyError",
     "evalue": "\"None of ['Product'] are in the columns\"",
     "output_type": "error",
     "traceback": [
      "\u001b[31m---------------------------------------------------------------------------\u001b[39m",
      "\u001b[31mKeyError\u001b[39m                                  Traceback (most recent call last)",
      "\u001b[32m~\\AppData\\Local\\Temp\\ipykernel_8568\\1097997081.py\u001b[39m in \u001b[36m?\u001b[39m\u001b[34m()\u001b[39m\n\u001b[32m----> \u001b[39m\u001b[32m1\u001b[39m ss.set_index(\u001b[33m'Product'\u001b[39m,inplace=\u001b[38;5;28;01mTrue\u001b[39;00m)\n",
      "\u001b[32m~\\AppData\\Local\\Programs\\Python\\Python313\\Lib\\site-packages\\pandas\\core\\frame.py\u001b[39m in \u001b[36m?\u001b[39m\u001b[34m(self, keys, drop, append, inplace, verify_integrity)\u001b[39m\n\u001b[32m   6140\u001b[39m                     \u001b[38;5;28;01mif\u001b[39;00m \u001b[38;5;28;01mnot\u001b[39;00m found:\n\u001b[32m   6141\u001b[39m                         missing.append(col)\n\u001b[32m   6142\u001b[39m \n\u001b[32m   6143\u001b[39m         \u001b[38;5;28;01mif\u001b[39;00m missing:\n\u001b[32m-> \u001b[39m\u001b[32m6144\u001b[39m             \u001b[38;5;28;01mraise\u001b[39;00m KeyError(f\"None of {missing} are in the columns\")\n\u001b[32m   6145\u001b[39m \n\u001b[32m   6146\u001b[39m         \u001b[38;5;28;01mif\u001b[39;00m inplace:\n\u001b[32m   6147\u001b[39m             frame = self\n",
      "\u001b[31mKeyError\u001b[39m: \"None of ['Product'] are in the columns\""
     ]
    }
   ],
   "source": [
    "\n",
    "\n",
    "ss.set_index('Product',inplace=True)"
   ]
  },
  {
   "cell_type": "code",
   "execution_count": 47,
   "id": "c9d2eb26-fa5f-40ed-938c-5fee0923080d",
   "metadata": {},
   "outputs": [
    {
     "data": {
      "image/png": "[encoded data removed]",
      "text/plain": [
       "<Figure size 640x480 with 1 Axes>"
      ]
     },
     "metadata": {},
     "output_type": "display_data"
    }
   ],
   "source": [
    "\n",
    "ss.plot(kind='bar',xlabel='Product')\n",
    "plt.ylabel('Sales')\n",
    "plt.show()\n"
   ]
  },
  {
   "cell_type": "code",
   "execution_count": 49,
   "id": "eea29eb1-13e0-49e0-ac47-4fde3201a21f",
   "metadata": {},
   "outputs": [
    {
     "data": {
      "text/plain": [
       "0      London\n",
       "1      Madrid\n",
       "2      Lisbon\n",
       "3      Berlin\n",
       "4      Berlin\n",
       "        ...  \n",
       "249    Berlin\n",
       "250    Berlin\n",
       "251    Berlin\n",
       "252    Berlin\n",
       "253    Berlin\n",
       "Name: City, Length: 254, dtype: object"
      ]
     },
     "execution_count": 49,
     "metadata": {},
     "output_type": "execute_result"
    }
   ],
   "source": [
    "df['City']"
   ]
  },
  {
   "cell_type": "code",
   "execution_count": 57,
   "id": "f01ce661-3dcb-48b9-9d7c-aae37aead239",
   "metadata": {},
   "outputs": [
    {
     "data": {
      "text/plain": [
       "Text(0.5, 1.0, 'City Wise Sales')"
      ]
     },
     "execution_count": 57,
     "metadata": {},
     "output_type": "execute_result"
    },
    {
     "data": {
      "image/png": "[encoded data removed]",
      "text/plain": [
       "<Figure size 640x480 with 1 Axes>"
      ]
     },
     "metadata": {},
     "output_type": "display_data"
    }
   ],
   "source": [
    "df.groupby('City')['Sales'].sum().plot(kind='pie',autopct='%1.2f%%',colors=['red','blue','green','yellow','purple'])\n",
    "plt.title('City Wise Sales')"
   ]
  },
  {
   "cell_type": "code",
   "execution_count": null,
   "id": "8c216b29-21a3-4ea5-b420-b8db9f456ab8",
   "metadata": {},
   "outputs": [],
   "source": []
  }
 ],
 "metadata": {
  "kernelspec": {
   "display_name": "Python 3 (ipykernel)",
   "language": "python",
   "name": "python3"
  },
  "language_info": {
   "codemirror_mode": {
    "name": "ipython",
    "version": 3
   },
   "file_extension": ".py",
   "mimetype": "text/x-python",
   "name": "python",
   "nbconvert_exporter": "python",
   "pygments_lexer": "ipython3",
   "version": "3.13.7"
  }
 },
 "nbformat": 4,
 "nbformat_minor": 5
}
